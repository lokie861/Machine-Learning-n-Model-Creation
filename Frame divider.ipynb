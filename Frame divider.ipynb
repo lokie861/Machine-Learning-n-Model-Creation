{
 "cells": [
  {
   "cell_type": "code",
   "execution_count": 4,
   "id": "f8d46f77-3098-44f4-8b37-3ee0fa407081",
   "metadata": {},
   "outputs": [
    {
     "name": "stdout",
     "output_type": "stream",
     "text": [
      "Total Frames : 259\n",
      "Converted 259 frames.\n"
     ]
    }
   ],
   "source": [
    "import cv2\n",
    "import os\n",
    "\n",
    "def convert_video_to_frames(video_path, output_dir):\n",
    "    # Open the video file\n",
    "    cap = cv2.VideoCapture(video_path)\n",
    "    \n",
    "    # Check if the video file was opened successfully\n",
    "    if not cap.isOpened():\n",
    "        print(\"Error: Could not open video file.\")\n",
    "        return\n",
    "    \n",
    "    # Create the output directory if it doesn't exist\n",
    "    if not os.path.exists(output_dir):\n",
    "        os.makedirs(output_dir)\n",
    "    \n",
    "    frame_count = 0\n",
    "    \n",
    "    # Loop through the video frames\n",
    "    while True:\n",
    "        ret, frame = cap.read()\n",
    "        \n",
    "        if not ret:\n",
    "            break\n",
    "        \n",
    "        # Save the frame as a JPG image\n",
    "        frame_filename = os.path.join(output_dir, f\"frame_{frame_count}.jpg\")\n",
    "        cv2.imwrite(frame_filename, frame)\n",
    "        \n",
    "        frame_count += 1\n",
    "    \n",
    "    print(f\"Total Frames : {frame_count}\")\n",
    "    # Release the video capture object and close all OpenCV windows\n",
    "    cap.release()\n",
    "    cv2.destroyAllWindows()\n",
    "    \n",
    "    print(f\"Converted {frame_count} frames.\")\n",
    "\n",
    "if __name__ == \"__main__\":\n",
    "    # Replace 'input_video.mp4' with the path to your input video file\n",
    "    input_video = \"pendrive.mp4\"\n",
    "    \n",
    "    # Replace 'output_frames' with the directory where you want to save the frames\n",
    "    output_frames_dir = \"data/pendrive/\"\n",
    "    \n",
    "    convert_video_to_frames(input_video, output_frames_dir)\n"
   ]
  },
  {
   "cell_type": "code",
   "execution_count": null,
   "id": "269aa11f",
   "metadata": {},
   "outputs": [],
   "source": []
  },
  {
   "cell_type": "code",
   "execution_count": null,
   "id": "52e8c26b",
   "metadata": {},
   "outputs": [],
   "source": []
  }
 ],
 "metadata": {
  "kernelspec": {
   "display_name": "Python 3 (ipykernel)",
   "language": "python",
   "name": "python3"
  },
  "language_info": {
   "codemirror_mode": {
    "name": "ipython",
    "version": 3
   },
   "file_extension": ".py",
   "mimetype": "text/x-python",
   "name": "python",
   "nbconvert_exporter": "python",
   "pygments_lexer": "ipython3",
   "version": "3.11.5"
  }
 },
 "nbformat": 4,
 "nbformat_minor": 5
}
